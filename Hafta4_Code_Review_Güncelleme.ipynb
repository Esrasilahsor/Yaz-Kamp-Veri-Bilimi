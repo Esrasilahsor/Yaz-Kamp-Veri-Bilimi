{
 "cells": [
  {
   "cell_type": "code",
   "execution_count": null,
   "id": "b9a0e9aa-9f2d-492f-b40f-1b6bc3939e93",
   "metadata": {},
   "outputs": [],
   "source": [
    "1. Numpy ile Matris İşlemleri\n",
    "- 5x5 boyutunda rastgele (0-100 arasında) tam sayılardan oluşan bir matris oluşturun.\n",
    "- Bu matrisin:\n",
    "  • Ortalama, standart sapma ve varyansını hesaplayın.\n",
    "  • En büyük ve en küçük değerlerini bulun.\n",
    "  • Köşegenindeki elemanların toplamını bulun.\n"
   ]
  },
  {
   "cell_type": "code",
   "execution_count": 34,
   "id": "9f6b26d4-187e-4e9d-aaee-89e0038fc24f",
   "metadata": {},
   "outputs": [
    {
     "name": "stdout",
     "output_type": "stream",
     "text": [
      "Rastgele Sayılarla Oluşturulan Matris: \n",
      " [[88 91 44 61 71]\n",
      " [24 21 10 96 21]\n",
      " [40 46 22 60 40]\n",
      " [37 21  3 97 67]\n",
      " [14 97 81 82 47]]\n",
      "Matris'in Ortalaması: 51.24\n",
      "Matris'in Standart Sapması: 29.715019771152768\n",
      "Matris'in Varyansı: 882.9823999999999\n",
      "Matris'in En Büyük Değeri: 97\n",
      "Matris'in En Küçük Değeri: 3\n",
      "Matris'in Köşegenler Toplamı: 275\n"
     ]
    }
   ],
   "source": [
    "import numpy as np\n",
    "\n",
    "# np.random.seed(42) random sayıları bir kere atar, sonra değiştirmez. 42 yerine başka sayı da yazılabilirmiş.\n",
    "matris = np.random.randint(0, 100, size=(5, 5))  # matris = np.random.randint(0, 100).reshape(5,5) de yazılabilir.\n",
    "print(\"Rastgele Sayılarla Oluşturulan Matris: \\n\",matris)\n",
    "\n",
    "ort= np.mean(matris)\n",
    "print(\"Matris'in Ortalaması:\",ort)\n",
    "\n",
    "std_sapma= np.std(matris)\n",
    "print(\"Matris'in Standart Sapması:\",std_sapma)\n",
    "\n",
    "varyans= np.var(matris)\n",
    "print(\"Matris'in Varyansı:\",varyans)\n",
    "\n",
    "max_deger= np.max(matris)\n",
    "print(\"Matris'in En Büyük Değeri:\",max_deger)\n",
    "\n",
    "min_deger= np.min(matris)\n",
    "print(\"Matris'in En Küçük Değeri:\",min_deger)\n",
    "\n",
    "# kosegen_toplam= np.trace(matris) fonksiyonu ile köşegenler toplamı bulunabilir.\n",
    "# kosegen_elemanlar= np.diag(matris) köşegen elemanlarını alır.\n",
    "# kosegen_elemanlar.sum() şeklinde de toplayarak da hesaplanabilir.\n",
    "kosegen_toplam= matris[0][0]+matris[1][1]+matris[2][2]+matris[3][3]+matris[4][4]\n",
    "print(\"Matris'in Köşegenler Toplamı:\",kosegen_toplam)"
   ]
  },
  {
   "cell_type": "code",
   "execution_count": null,
   "id": "d4966875-b9cf-416f-aff9-21d1956b56c2",
   "metadata": {},
   "outputs": [],
   "source": [
    "2. Numpy ile Veri Simülasyonu\n",
    "- 1000 adet öğrencinin sınav puanlarını (0-100 arası, normal dağılımdan gelen) simüle edin.\n",
    "- Ortalama, medyan ve standart sapmayı hesaplayın.\n",
    "- 50’den düşük alan kaç öğrenci olduğunu bulun.\n"
   ]
  },
  {
   "cell_type": "code",
   "execution_count": 68,
   "id": "ad3b6a34-ca61-4eb1-b27b-e6b181df90bf",
   "metadata": {},
   "outputs": [
    {
     "name": "stdout",
     "output_type": "stream",
     "text": [
      "Ortalama puan: 59.39068810354079\n",
      "Puanların medyanı: 61.24841459113469\n",
      "Puanların standart sapması: 30.202714628742562\n",
      "50'den düşük alan öğrrenci sayısı: 388\n"
     ]
    }
   ],
   "source": [
    "import numpy as np\n",
    "\n",
    "puanlar = np.random.normal(loc=60, scale=40, size=1000)  # normal dağılımda veri elde etmek için kulanılır.\n",
    "puanlar = np.clip(puanlar, 0, 100) # clip fonksiyonu kırpma/sınırlandırma işlemi yapar.\n",
    "\n",
    "ort= np.mean(puanlar)\n",
    "print(\"Ortalama puan:\",ort)\n",
    "\n",
    "medyan= np.median(puanlar)\n",
    "print(\"Puanların medyanı:\",medyan)\n",
    "\n",
    "std_sapma= np.std(puanlar)\n",
    "print(\"Puanların standart sapması:\",std_sapma)\n",
    "\n",
    "# ogrenci= np.sum(puanlar>50) de 50'den küçük alan öğrenci sayısını hesaplar.\n",
    "ogrenci= np.count_nonzero(puanlar<50)\n",
    "print(\"50'den düşük alan öğrenci sayısı:\",ogrenci)"
   ]
  },
  {
   "cell_type": "code",
   "execution_count": null,
   "id": "142b22ba-c9a0-46ac-89c9-f43c96c9c288",
   "metadata": {},
   "outputs": [],
   "source": [
    "\t1. Veri setini Pandas DataFrame olarak oluşturun.\n",
    "\t2. Her ders için ortalama puanı bulun.\n",
    "\t3. En yüksek matematik notunu alan öğrenciyi bulun.\n",
    "    4. Her öğrencinin not ortalamasını hesaplayan yeni bir sütun ekleyin.\n",
    "\t5. Bölümlere göre gruplayarak her bölümün ortalama başarılarını hesaplayın.\n",
    "\t6. Ortalaması 70’in üzerinde olan öğrencileri filtreleyin.\n"
   ]
  },
  {
   "cell_type": "code",
   "execution_count": 3,
   "id": "6556e4f1-d3a5-4ed7-84e9-bb618ef95aa1",
   "metadata": {},
   "outputs": [
    {
     "name": "stdout",
     "output_type": "stream",
     "text": [
      "  Öğrenci  Yaş       Bölüm  Matematik  Fizik  Kimya\n",
      "0     Ali   20  Bilgisayar         70     65     80\n",
      "1    Ayşe   21       Fizik         60     75     85\n",
      "2  Mehmet   19       Kimya         80     70     65\n",
      "3  Zeynep   22  Bilgisayar         90     85     95\n",
      "4   Ahmet   20       Fizik         55     60     70\n"
     ]
    }
   ],
   "source": [
    "# Veri setini Pandas DataFrame olarak oluşturun.\n",
    "\n",
    "import pandas as pd\n",
    "\n",
    "data={\n",
    "    \"Öğrenci\": [\"Ali\",\"Ayşe\",\"Mehmet\",\"Zeynep\",\"Ahmet\"],\n",
    "    \"Yaş\": [20,21,19,22,20],\n",
    "    \"Bölüm\": [\"Bilgisayar\",\"Fizik\",\"Kimya\",\"Bilgisayar\",\"Fizik\"],\n",
    "    \"Matematik\": [70,60,80,90,55],\n",
    "    \"Fizik\": [65,75,70,85,60],\n",
    "    \"Kimya\": [80,85,65,95,70]\n",
    "}\n",
    "\n",
    "df=pd.DataFrame(data)\n",
    "print(df)"
   ]
  },
  {
   "cell_type": "code",
   "execution_count": 5,
   "id": "1a667758-89d4-4971-93ce-ed156b99cd10",
   "metadata": {},
   "outputs": [
    {
     "name": "stdout",
     "output_type": "stream",
     "text": [
      "Matematik Notlarının Ortalaması: 71.0\n",
      "Fizik Notlarının Ortalaması: 71.0\n",
      "Kimya Notlarının Ortalaması: 79.0\n"
     ]
    }
   ],
   "source": [
    "# Her ders için ortalama puanı bulun.\n",
    "\n",
    "matematik_ort= df[\"Matematik\"].mean()\n",
    "print(\"Matematik Notlarının Ortalaması:\",matematik_ort)\n",
    "\n",
    "fizik_ort= df[\"Fizik\"].mean()\n",
    "print(\"Fizik Notlarının Ortalaması:\",fizik_ort)\n",
    "\n",
    "kimya_ort= df[\"Kimya\"].mean()\n",
    "print(\"Kimya Notlarının Ortalaması:\",kimya_ort)"
   ]
  },
  {
   "cell_type": "code",
   "execution_count": 110,
   "id": "4723800a-7f2f-4e54-ba10-a857905a8af5",
   "metadata": {},
   "outputs": [
    {
     "name": "stdout",
     "output_type": "stream",
     "text": [
      "En yüksek matematik notunu alan öğrenci: Zeynep  Puanı: 90\n"
     ]
    }
   ],
   "source": [
    "# En yüksek matematik notunu alan öğrenciyi bulun.\n",
    "\n",
    "en_yuksek= df[\"Matematik\"].max()  # en_yuksek= df[\"Matematik\"].idxmax() fonk da en yüksek not alan ögrencinin id'sini getirir.\n",
    "index= df[df[\"Matematik\"]==en_yuksek].index\n",
    "ogrenci=df[\"Öğrenci\"][index].values[0]\n",
    "print(f\"En yüksek matematik notunu alan öğrenci: {ogrenci}  Puanı: {en_yuksek}\")"
   ]
  },
  {
   "cell_type": "code",
   "execution_count": 114,
   "id": "6cbe04f7-0863-4ae8-b2e7-7de92b872af0",
   "metadata": {},
   "outputs": [
    {
     "name": "stdout",
     "output_type": "stream",
     "text": [
      "  Öğrenci  Yaş       Bölüm  Matematik  Fizik  Kimya   Ortalama\n",
      "0     Ali   20  Bilgisayar         70     65     80  71.666667\n",
      "1    Ayşe   21       Fizik         60     75     85  73.333333\n",
      "2  Mehmet   19       Kimya         80     70     65  71.666667\n",
      "3  Zeynep   22  Bilgisayar         90     85     95  90.000000\n",
      "4   Ahmet   20       Fizik         55     60     70  61.666667\n"
     ]
    }
   ],
   "source": [
    "# Her öğrencinin not ortalamasını hesaplayan yeni bir sütun ekleyin.\n",
    "\n",
    "# df[\"Ortalama\"]= df[[\"Matematik\",\"Fizik\",\"Kimya\"]].mean(axis=1) ile de hesaplanabilir.\n",
    "df[\"Ortalama\"]= (df[\"Matematik\"]+df[\"Fizik\"]+df[\"Kimya\"])/3 \n",
    "print(df)"
   ]
  },
  {
   "cell_type": "code",
   "execution_count": 126,
   "id": "40914231-b3a7-4516-854e-3606dfca4637",
   "metadata": {},
   "outputs": [
    {
     "name": "stdout",
     "output_type": "stream",
     "text": [
      "Bölüm\n",
      "Bilgisayar    80.833333\n",
      "Fizik         67.500000\n",
      "Kimya         71.666667\n",
      "Name: Ortalama, dtype: float64\n"
     ]
    }
   ],
   "source": [
    "# Bölümlere göre gruplayarak her bölümün ortalama başarılarını hesaplayın.\n",
    "\n",
    "# bolum_ort = df.groupby(\"Bölüm\")[[\"Matematik\"],[\"Fizik\"],[\"Kimya\"],[\"Ortalama\"]].mean()\n",
    "# bolum_ort.round(2) şeklinde de her grubun ortalama başarısını hesaplayabiliriz.\n",
    "gruplama= df.groupby(\"Bölüm\")[\"Ortalama\"].mean()\n",
    "print(gruplama)"
   ]
  },
  {
   "cell_type": "code",
   "execution_count": 116,
   "id": "5e7456a5-719e-4ccc-8cb2-2a0e2eecbd74",
   "metadata": {},
   "outputs": [
    {
     "name": "stdout",
     "output_type": "stream",
     "text": [
      "  Öğrenci  Yaş       Bölüm  Matematik  Fizik  Kimya   Ortalama\n",
      "0     Ali   20  Bilgisayar         70     65     80  71.666667\n",
      "1    Ayşe   21       Fizik         60     75     85  73.333333\n",
      "2  Mehmet   19       Kimya         80     70     65  71.666667\n",
      "3  Zeynep   22  Bilgisayar         90     85     95  90.000000\n"
     ]
    }
   ],
   "source": [
    "# Ortalaması 70’in üzerinde olan öğrencileri filtreleyin.\n",
    "\n",
    "filtreleme= df[df[\"Ortalama\"]>=70]\n",
    "print(filtreleme)"
   ]
  },
  {
   "cell_type": "code",
   "execution_count": null,
   "id": "4ecd9201-8c07-4398-908d-34147ff2a179",
   "metadata": {},
   "outputs": [],
   "source": [
    "3. Ek Görev (Opsiyonel)\n",
    "Matplotlib veya Seaborn kullanarak:\n",
    "  • Her dersin dağılımını histogram ile gösterin.\n",
    "  • Bölümlere göre ortalamaları bar grafikte görselleştirin."
   ]
  },
  {
   "cell_type": "code",
   "execution_count": 128,
   "id": "d9d618ca-4898-4dac-ae28-efe7746a7bd4",
   "metadata": {},
   "outputs": [
    {
     "data": {
      "text/plain": [
       "<Axes: ylabel='Frequency'>"
      ]
     },
     "execution_count": 128,
     "metadata": {},
     "output_type": "execute_result"
    },
    {
     "data": {
      "image/png": "[encoded data removed]",
      "text/plain": [
       "<Figure size 640x480 with 1 Axes>"
      ]
     },
     "metadata": {},
     "output_type": "display_data"
    }
   ],
   "source": [
    "# Her dersin dağılımını histogram ile gösterin.\n",
    "\n",
    "import matplotlib.pyplot as plt\n",
    "\n",
    "df[\"Matematik\"].plot(kind='hist')\n"
   ]
  },
  {
   "cell_type": "code",
   "execution_count": 130,
   "id": "04d65baa-9077-4017-8d38-89bd597198e4",
   "metadata": {},
   "outputs": [
    {
     "data": {
      "text/plain": [
       "<Axes: ylabel='Frequency'>"
      ]
     },
     "execution_count": 130,
     "metadata": {},
     "output_type": "execute_result"
    },
    {
     "data": {
      "image/png": "[encoded data removed]",
      "text/plain": [
       "<Figure size 640x480 with 1 Axes>"
      ]
     },
     "metadata": {},
     "output_type": "display_data"
    }
   ],
   "source": [
    "df[\"Fizik\"].plot(kind='hist')"
   ]
  },
  {
   "cell_type": "code",
   "execution_count": 134,
   "id": "45b88d8d-a734-4ba1-8f92-9d1730f36df8",
   "metadata": {},
   "outputs": [
    {
     "data": {
      "image/png": "[encoded data removed]",
      "text/plain": [
       "<Figure size 640x480 with 1 Axes>"
      ]
     },
     "metadata": {},
     "output_type": "display_data"
    }
   ],
   "source": [
    "df[\"Kimya\"].plot(kind='hist')\n"
   ]
  },
  {
   "cell_type": "code",
   "execution_count": 138,
   "id": "74155e0c-cf33-410e-9f59-c6038f6782ea",
   "metadata": {},
   "outputs": [
    {
     "data": {
      "text/plain": [
       "<BarContainer object of 3 artists>"
      ]
     },
     "execution_count": 138,
     "metadata": {},
     "output_type": "execute_result"
    },
    {
     "data": {
      "image/png": "[encoded data removed]",
      "text/plain": [
       "<Figure size 640x480 with 1 Axes>"
      ]
     },
     "metadata": {},
     "output_type": "display_data"
    }
   ],
   "source": [
    "# Bölümlere göre ortalamaları bar grafikte görselleştirin.\n",
    "\n",
    "plt.bar(gruplama.index, gruplama.values)"
   ]
  },
  {
   "cell_type": "code",
   "execution_count": null,
   "id": "18449ffd-5877-4543-9516-08f7fc230e98",
   "metadata": {},
   "outputs": [],
   "source": []
  }
 ],
 "metadata": {
  "kernelspec": {
   "display_name": "Python [conda env:base] *",
   "language": "python",
   "name": "conda-base-py"
  },
  "language_info": {
   "codemirror_mode": {
    "name": "ipython",
    "version": 3
   },
   "file_extension": ".py",
   "mimetype": "text/x-python",
   "name": "python",
   "nbconvert_exporter": "python",
   "pygments_lexer": "ipython3",
   "version": "3.12.7"
  }
 },
 "nbformat": 4,
 "nbformat_minor": 5
}
