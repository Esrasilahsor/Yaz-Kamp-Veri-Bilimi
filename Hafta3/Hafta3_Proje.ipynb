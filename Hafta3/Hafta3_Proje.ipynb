{
 "cells": [
  {
   "cell_type": "code",
   "execution_count": 181,
   "id": "ab8027d6-ace9-442c-97f9-a4ec1c49dfc2",
   "metadata": {},
   "outputs": [],
   "source": [
    "# Proje\n",
    "\n",
    "kitaplar = [ \n",
    "{\"isim\": \"Veri Bilimi 101\", \"yazar\": \"Ali\", \"tur\": \"Bilim\", \"satis\": 1200, \"yil\": 2021}, \n",
    "{\"isim\": \"Python ile Yapay Zeka\", \"yazar\": \"Ayşe\", \"tur\": \"Bilim\", \"satis\": 950, \"yil\": \n",
    "2020}, \n",
    "{\"isim\": \"İstatistik Temelleri\", \"yazar\": \"Ali\", \"tur\": \"Akademik\", \"satis\": 700, \"yil\": 2019}, \n",
    "{\"isim\": \"Makine Öğrenmesi\", \"yazar\": \"Can\", \"tur\": \"Bilim\", \"satis\": 1800, \"yil\": 2022}, \n",
    "{\"isim\": \"Veri Görselleştirme\", \"yazar\": \"Deniz\", \"tur\": \"Sanat\", \"satis\": 400, \"yil\": 2018}, \n",
    "{\"isim\": \"Matematiksel Modelleme\", \"yazar\": \"Ali\", \"tur\": \"Akademik\", \"satis\": 1500, \n",
    "\"yil\": 2021}, \n",
    "{\"isim\": \"Bilgi Toplumu\", \"yazar\": \"Ayşe\", \"tur\": \"Sosyal\", \"satis\": 600, \"yil\": 2022} \n",
    "] "
   ]
  },
  {
   "cell_type": "code",
   "execution_count": 179,
   "id": "33d8397e-9afc-4ec3-82da-59646eb8a5fc",
   "metadata": {},
   "outputs": [
    {
     "name": "stdout",
     "output_type": "stream",
     "text": [
      "En Çok Satan Kitap: Makine Öğrenmesi\n",
      "Yazar Satışları: {'Ali': 3400, 'Ayşe': 1550, 'Can': 1800, 'Deniz': 400}\n"
     ]
    }
   ],
   "source": [
    "# 1. Fonksiyon Yazma\n",
    "\n",
    "def en_cok_satan(kitap):\n",
    "    sonuc=max(kitaplar,key=lambda x: x[\"satis\"])\n",
    "    print(\"En Çok Satan Kitap:\",sonuc[\"isim\"])\n",
    "    \n",
    "def yazar_satislari(kitaplar):\n",
    "    toplamlar = {}\n",
    "    for kitap in kitaplar:\n",
    "        yazar = kitap[\"yazar\"]\n",
    "        satis = kitap[\"satis\"]\n",
    "        if yazar in toplamlar:\n",
    "            toplamlar[yazar] += satis\n",
    "        else:\n",
    "            toplamlar[yazar] = satis\n",
    "    print(\"Yazar Satışları:\",toplamlar)\n",
    "\n",
    "en_cok_satan(kitaplar)\n",
    "yazar_satislari(kitaplar)"
   ]
  },
  {
   "cell_type": "code",
   "execution_count": 40,
   "id": "78475acd-680a-4188-8f55-fe59dee2c9bd",
   "metadata": {},
   "outputs": [
    {
     "name": "stdout",
     "output_type": "stream",
     "text": [
      "Tüm kitap türleri: {'Sanat', 'Sosyal', 'Bilim', 'Akademik'}\n",
      "Satış adedi 1000’den fazla olan kitapların isimleri: ['Veri Bilimi 101', 'Makine Öğrenmesi', 'Matematiksel Modelleme']\n"
     ]
    }
   ],
   "source": [
    "# 2. Liste ve Küme İşlemleri\n",
    "\n",
    "liste=[]\n",
    "for i in range(len(kitaplar)):\n",
    "    liste.append(kitaplar[i][\"tur\"])\n",
    "tur=set(liste)\n",
    "print(\"Tüm kitap türleri:\",tur)\n",
    "\n",
    "satis_liste=[]\n",
    "for i in range(len(kitaplar)):\n",
    "    if kitaplar[i][\"satis\"]>=1000:\n",
    "        satis_liste.append(kitaplar[i][\"isim\"])\n",
    "\n",
    "print(\"Satış adedi 1000’den fazla olan kitapların isimleri:\",satis_liste)"
   ]
  },
  {
   "cell_type": "code",
   "execution_count": 213,
   "id": "3a4e9a93-8092-4e03-b898-ffe944ccf3ca",
   "metadata": {},
   "outputs": [
    {
     "name": "stdout",
     "output_type": "stream",
     "text": [
      "2020’den sonra çıkan kitaplar:\n",
      "\n",
      "Veri Bilimi 101 (2021)\n",
      "Python ile Yapay Zeka (2020)\n",
      "Makine Öğrenmesi (2022)\n",
      "Matematiksel Modelleme (2021)\n",
      "Bilgi Toplumu (2022)\n",
      "\n",
      "Artırılmış Satış Adetleri: [1320.0, 1045.0, 770.0, 1980.0, 440.0, 1650.0, 660.0]\n",
      "\n",
      "Satış Miktarına Göre Sıralama:\n",
      "\n",
      "Makine Öğrenmesi - 1800 satış\n",
      "Matematiksel Modelleme - 1500 satış\n",
      "Veri Bilimi 101 - 1200 satış\n",
      "Python ile Yapay Zeka - 950 satış\n",
      "İstatistik Temelleri - 700 satış\n",
      "Bilgi Toplumu - 600 satış\n",
      "Veri Görselleştirme - 400 satış\n"
     ]
    }
   ],
   "source": [
    "# 3. Lambda / Filter / Map Kullanımı\n",
    "\n",
    "filtreleme = list(filter(lambda kitap: kitap[\"yil\"] >= 2020, kitaplar))\n",
    "print(\"2020’den sonra çıkan kitaplar:\\n\")\n",
    "for kitap in filtreleme:\n",
    "    print(f\"{kitap[\"isim\"]} ({kitap[\"yil\"]})\")\n",
    "\n",
    "def satis_adedi(satis):\n",
    "    return satis + satis* 0.1\n",
    "\n",
    "satis_arttirma= map(lambda kitap: satis_adedi(kitap[\"satis\"]), kitaplar)\n",
    "print(\"\\nArtırılmış Satış Adetleri:\",list(satis_arttirma))\n",
    "\n",
    "sirali_kitaplar = sorted(kitaplar, key=lambda x: x[\"satis\"], reverse=True)\n",
    "print(\"\\nSatış Miktarına Göre Sıralama:\\n\")\n",
    "for kitap in sirali_kitaplar:\n",
    "    print(f\"{kitap[\"isim\"]} - {kitap[\"satis\"]} satış\")\n"
   ]
  },
  {
   "cell_type": "code",
   "execution_count": 209,
   "id": "3347b070-7025-48f6-8fa7-421283fbe7da",
   "metadata": {},
   "outputs": [
    {
     "name": "stdout",
     "output_type": "stream",
     "text": [
      "Ortalama Satış Adedi: 1021.4285714285714\n",
      "Satış Adedi Standart Sapması: 506.5053001179939\n",
      "En çok satış yapan tür: Bilim\n"
     ]
    }
   ],
   "source": [
    "# 4. İstatistiksel Analiz\n",
    "\n",
    "import statistics as st\n",
    "from functools import reduce\n",
    "\n",
    "ort= st.mean([i[\"satis\"] for i in kitaplar])\n",
    "print(\"Ortalama Satış Adedi:\",ort)\n",
    "\n",
    "std_sapma= st.stdev([i[\"satis\"] for i in kitaplar])\n",
    "print(\"Satış Adedi Standart Sapması:\",std_sapma)\n",
    "\n",
    "def grupla(birikim, kitap):\n",
    "    birikim[kitap[\"tur\"]] = birikim.get(kitap[\"tur\"], 0) + kitap[\"satis\"]\n",
    "    return birikim\n",
    "\n",
    "tur_satis = reduce(grupla, kitaplar, {})\n",
    "en_cok_satan_tur = max(tur_satis, key=tur_satis.get)\n",
    "print(f\"En çok satış yapan tür: {en_cok_satan_tur}\")\n"
   ]
  },
  {
   "cell_type": "code",
   "execution_count": null,
   "id": "a63e49fc-1263-4b23-bf8f-c104e3edd395",
   "metadata": {},
   "outputs": [],
   "source": []
  }
 ],
 "metadata": {
  "kernelspec": {
   "display_name": "Python [conda env:base] *",
   "language": "python",
   "name": "conda-base-py"
  },
  "language_info": {
   "codemirror_mode": {
    "name": "ipython",
    "version": 3
   },
   "file_extension": ".py",
   "mimetype": "text/x-python",
   "name": "python",
   "nbconvert_exporter": "python",
   "pygments_lexer": "ipython3",
   "version": "3.12.7"
  }
 },
 "nbformat": 4,
 "nbformat_minor": 5
}
