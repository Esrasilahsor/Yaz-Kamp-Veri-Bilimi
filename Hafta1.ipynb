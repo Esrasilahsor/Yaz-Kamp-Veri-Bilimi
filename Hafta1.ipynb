{
 "cells": [
  {
   "cell_type": "code",
   "execution_count": 7,
   "id": "15c6616c-849b-42bb-a5ba-94f48fc9dc33",
   "metadata": {},
   "outputs": [
    {
     "name": "stdin",
     "output_type": "stream",
     "text": [
      "İsim giriniz:  Esra\n",
      "Yaşinizi giriniz:  22\n",
      "Boyunuzu giriniz:  168\n"
     ]
    },
    {
     "name": "stdout",
     "output_type": "stream",
     "text": [
      "Esra isimli kullanıcının yaşı 22.0, boyu 168.0 cm'dir.\n"
     ]
    }
   ],
   "source": [
    "# Bölüm 1.1\n",
    "\n",
    "isim= (input(\"İsim giriniz: \"))\n",
    "yas=float(input(\"Yaşinizi giriniz: \"))\n",
    "boy=float(input(\"Boyunuzu giriniz: \"))\n",
    "\n",
    "print(f\"{isim} isimli kullanıcının yaşı {yas}, boyu {boy} cm'dir.\")\n"
   ]
  },
  {
   "cell_type": "code",
   "execution_count": 9,
   "id": "6199f457-5ca9-47bd-9ec5-0407ed7af21e",
   "metadata": {},
   "outputs": [
    {
     "name": "stdout",
     "output_type": "stream",
     "text": [
      "Ortalama:  112.5\n"
     ]
    }
   ],
   "source": [
    "# Bölüm 1.2\n",
    "\n",
    "matematik, fizik, kimya=80,50,95\n",
    "ortalama= float((matematik+fizik+kimya)/2)\n",
    "print(\"Ortalama: \",ortalama)"
   ]
  },
  {
   "cell_type": "code",
   "execution_count": 13,
   "id": "2c268e7d-343f-4001-aafe-0f7730dc4f73",
   "metadata": {},
   "outputs": [
    {
     "name": "stdout",
     "output_type": "stream",
     "text": [
      "İlk karakteri:  İ\n",
      "Son karakteri:  l\n",
      "Uzunluğu:  8\n",
      "Ters çevirilmiş hali:  lubnatsİ\n"
     ]
    }
   ],
   "source": [
    "# Bölüm 1.3\n",
    "\n",
    "kelime=\"İstanbul\"\n",
    "\n",
    "print(\"İlk karakteri: \",kelime[0])\n",
    "print(\"Son karakteri: \",kelime[-1])\n",
    "print(\"Uzunluğu: \",len(kelime))\n",
    "print(\"Ters çevirilmiş hali: \",kelime[::-1])"
   ]
  },
  {
   "cell_type": "code",
   "execution_count": 15,
   "id": "e6f0b6be-f8ea-4279-9fbe-35b8a7289e72",
   "metadata": {},
   "outputs": [
    {
     "name": "stdin",
     "output_type": "stream",
     "text": [
      "Sayı1 giriniz:  50\n",
      "Sayı2 giriniz:  30\n"
     ]
    },
    {
     "name": "stdout",
     "output_type": "stream",
     "text": [
      "Toplam: 80, Fark: 20, Çarpım: 1500, Bölüm: 1.6666666666666667, Mod: 20\n"
     ]
    }
   ],
   "source": [
    "#Bölüm 2.4\n",
    "\n",
    "sayi1= int(input(\"Sayı1 giriniz: \"))\n",
    "sayi2= int(input(\"Sayı2 giriniz: \"))\n",
    "\n",
    "toplam= sayi1+sayi2\n",
    "fark=sayi1-sayi2\n",
    "carpim=sayi1*sayi2\n",
    "bolum=sayi1/sayi2\n",
    "mod=sayi1% sayi2\n",
    "\n",
    "print(f\"Toplam: {toplam}, Fark: {fark}, Çarpım: {carpim}, Bölüm: {bolum}, Mod: {mod}\")"
   ]
  },
  {
   "cell_type": "code",
   "execution_count": 17,
   "id": "9517df42-0477-429c-8642-a5d74685ee03",
   "metadata": {},
   "outputs": [
    {
     "name": "stdout",
     "output_type": "stream",
     "text": [
      "Geçti\n"
     ]
    }
   ],
   "source": [
    "# Bölüm 2.5\n",
    "\n",
    "ogrenci=[50,60,70]\n",
    "\n",
    "ortalama= ogrenci[0]+ogrenci[1]+ogrenci[2]\n",
    "\n",
    "if ortalama>50:\n",
    "    print(\"Geçti\")\n",
    "else:\n",
    "    print(\"Kaldı\")"
   ]
  },
  {
   "cell_type": "code",
   "execution_count": 19,
   "id": "4d35ef35-b862-485c-af6f-852f0589b6ec",
   "metadata": {},
   "outputs": [
    {
     "name": "stdin",
     "output_type": "stream",
     "text": [
      "Yaşınızı giriniz:  18\n"
     ]
    },
    {
     "name": "stdout",
     "output_type": "stream",
     "text": [
      "Ehliyet alabilirsiniz\n"
     ]
    }
   ],
   "source": [
    "# Bölüm 2.6\n",
    "\n",
    "yas= int(input(\"Yaşınızı giriniz: \"))\n",
    "\n",
    "if yas>=18:\n",
    "    print(\"Ehliyet alabilirsiniz\")\n",
    "else:\n",
    "    print(\"Ehliyet alamazsınız\")"
   ]
  },
  {
   "cell_type": "code",
   "execution_count": 21,
   "id": "d8051269-d0a6-4be3-a0eb-6fefe459a89a",
   "metadata": {},
   "outputs": [
    {
     "name": "stdin",
     "output_type": "stream",
     "text": [
      "Ürünün fiyatını giriniz: 1000\n",
      "Yüzde kaç indirim istersiniz:  32\n"
     ]
    },
    {
     "name": "stdout",
     "output_type": "stream",
     "text": [
      "İndirimli Fiyat:  680.0\n"
     ]
    }
   ],
   "source": [
    "# Bölüm 2.7\n",
    "\n",
    "fiyat=float(input(\"Ürünün fiyatını giriniz:\"))\n",
    "indirim= int(input(\"Yüzde kaç indirim istersiniz: \"))\n",
    "\n",
    "indirimli_fiyat= fiyat-((fiyat*indirim)/100)\n",
    "\n",
    "print(\"İndirimli Fiyat: \", indirimli_fiyat)"
   ]
  },
  {
   "cell_type": "code",
   "execution_count": 23,
   "id": "ba8a447e-2f68-4c63-8c58-c4b5bf5e49eb",
   "metadata": {},
   "outputs": [
    {
     "name": "stdout",
     "output_type": "stream",
     "text": [
      "False\n",
      "True\n",
      "True\n",
      "True\n",
      "False\n",
      "True\n"
     ]
    }
   ],
   "source": [
    "#Bölüm 2.8\n",
    "\n",
    "true=True \n",
    "false=False\n",
    "\n",
    "print(true and false)\n",
    "print(true and true)\n",
    "print(true or false)\n",
    "print(false or true)\n",
    "print(not true)\n",
    "print(not false)"
   ]
  },
  {
   "cell_type": "code",
   "execution_count": 27,
   "id": "ad6adc00-e6fe-4b5f-bedf-bde790596a86",
   "metadata": {},
   "outputs": [
    {
     "name": "stdin",
     "output_type": "stream",
     "text": [
      "Birinci ürünün fiyatını giriniz:  100\n",
      "İkinci ürünün fiyatını giriniz:  60\n",
      "Üçüncü ürünün fiyatını giriniz:  80\n"
     ]
    },
    {
     "name": "stdout",
     "output_type": "stream",
     "text": [
      "216.0\n"
     ]
    }
   ],
   "source": [
    "# Bölüm 3.9\n",
    "\n",
    "fiyat1=int(input(\"Birinci ürünün fiyatını giriniz: \"))\n",
    "fiyat2=int(input(\"İkinci ürünün fiyatını giriniz: \"))\n",
    "fiyat3=int(input(\"Üçüncü ürünün fiyatını giriniz: \"))\n",
    "\n",
    "toplam_fiyat= fiyat1+fiyat2+fiyat3\n",
    "\n",
    "if toplam_fiyat >200:\n",
    "    toplam_fiyat= toplam_fiyat- ((toplam_fiyat*10)/100)\n",
    "print(toplam_fiyat)"
   ]
  },
  {
   "cell_type": "code",
   "execution_count": 35,
   "id": "dac24218-cdd7-4755-b420-18a7c0256b62",
   "metadata": {},
   "outputs": [
    {
     "name": "stdin",
     "output_type": "stream",
     "text": [
      "Doğum yılınızı giriniz:  2003\n"
     ]
    },
    {
     "name": "stdout",
     "output_type": "stream",
     "text": [
      "Yetişkinsiniz\n"
     ]
    }
   ],
   "source": [
    "# Bölüm 3.10\n",
    "\n",
    "yıl= int(input(\"Doğum yılınızı giriniz: \"))\n",
    "\n",
    "yas= 2025 - yıl\n",
    "\n",
    "if yas>=0 and yas<=12:\n",
    "    print(\"Çocuksunuz\")\n",
    "elif yas>=13 and yas<=17:\n",
    "    print(\"Ergensiniz\")\n",
    "elif yas>=18:\n",
    "    print(\"Yetişkinsiniz\")"
   ]
  },
  {
   "cell_type": "code",
   "execution_count": null,
   "id": "9c00592d-910d-455a-b63d-421d61947555",
   "metadata": {},
   "outputs": [],
   "source": []
  }
 ],
 "metadata": {
  "kernelspec": {
   "display_name": "Python [conda env:base] *",
   "language": "python",
   "name": "conda-base-py"
  },
  "language_info": {
   "codemirror_mode": {
    "name": "ipython",
    "version": 3
   },
   "file_extension": ".py",
   "mimetype": "text/x-python",
   "name": "python",
   "nbconvert_exporter": "python",
   "pygments_lexer": "ipython3",
   "version": "3.12.7"
  }
 },
 "nbformat": 4,
 "nbformat_minor": 5
}
