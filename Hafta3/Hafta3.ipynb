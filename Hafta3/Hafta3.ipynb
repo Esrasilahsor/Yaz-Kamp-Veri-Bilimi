{
 "cells": [
  {
   "cell_type": "code",
   "execution_count": 87,
   "id": "7c04e731-b887-441e-8f5e-0fdc3b853f07",
   "metadata": {},
   "outputs": [
    {
     "name": "stdout",
     "output_type": "stream",
     "text": [
      "Tekrar eden notların silinmiş hali: {100, 92, 85, 76}\n",
      "En yüksek not: 100\n",
      "En düşük not: 76\n",
      "Notların sıralanmış hali: [76, 85, 92, 100]\n"
     ]
    }
   ],
   "source": [
    "# Soru 1 \n",
    "\n",
    "notlar = [85, 92, 76, 92, 100, 76, 85, 92] \n",
    "notlar_kumesi=set((notlar))\n",
    "print(\"Tekrar eden notların silinmiş hali:\",notlar_kumesi)\n",
    "notlar=list((notlar_kumesi))\n",
    "en_yuksek_not=max(notlar)\n",
    "en_dusuk_not=min(notlar)\n",
    "print(\"En yüksek not:\",en_yuksek_not)\n",
    "print(\"En düşük not:\",en_dusuk_not)\n",
    "notlar.sort()\n",
    "print(\"Notların sıralanmış hali:\",notlar)"
   ]
  },
  {
   "cell_type": "code",
   "execution_count": 69,
   "id": "32dd1162-554b-4f00-b51c-f52a30a7f885",
   "metadata": {},
   "outputs": [
    {
     "name": "stdin",
     "output_type": "stream",
     "text": [
      "Armstrong sayısı kontrolü yapmak için bir sayı giriniz:  153\n"
     ]
    },
    {
     "name": "stdout",
     "output_type": "stream",
     "text": [
      "153 sayisi bir Armstrong sayıdır.\n"
     ]
    }
   ],
   "source": [
    "# Soru 2\n",
    "\n",
    "sayi=input(\"Armstrong sayısı kontrolü yapmak için bir sayı giriniz: \")\n",
    "sayilar=[]\n",
    "for i in str(sayi):\n",
    "    int(i)\n",
    "    sayilar.append(i)\n",
    "toplam=0\n",
    "for i in sayilar:\n",
    "    i=int(i)\n",
    "    toplam+=i*i*i\n",
    "if toplam==int(sayi):\n",
    "    print(f\"{sayi} sayisi bir Armstrong sayıdır.\")\n",
    "else:\n",
    "    print(f\"{sayi} sayisi bir Armstrong sayı değildir.\")"
   ]
  },
  {
   "cell_type": "code",
   "execution_count": 83,
   "id": "475e00a8-63f1-41aa-af23-8b313f950909",
   "metadata": {},
   "outputs": [
    {
     "name": "stdout",
     "output_type": "stream",
     "text": [
      "Ortak Diller: {'Python', 'SQL'}\n",
      "Sadece A’da Olan Diller: {'Java', 'R'}\n",
      "İki Kümenin Birleşimi: ['C++', 'Java', 'JavaScript', 'Python', 'R', 'SQL']\n"
     ]
    }
   ],
   "source": [
    "# Soru 3 \n",
    "\n",
    "A = {\"Python\", \"R\", \"SQL\", \"Java\"} \n",
    "B = {\"C++\", \"Python\", \"JavaScript\", \"SQL\"} \n",
    "\n",
    "kesisim= A.intersection(B)\n",
    "print(\"Ortak Diller:\",kesisim)   \n",
    "\n",
    "fark= A.symmetric_difference(B)\n",
    "print(\"Sadece A’da Olan Diller:\",fark-B) \n",
    "\n",
    "birlesim= A.union(B)\n",
    "birlesim=list(birlesim)\n",
    "birlesim.sort()\n",
    "print(\"İki Kümenin Birleşimi:\",birlesim)   "
   ]
  },
  {
   "cell_type": "code",
   "execution_count": 108,
   "id": "2d586c8e-226c-4a87-9398-49e393dde5c9",
   "metadata": {},
   "outputs": [
    {
     "name": "stdout",
     "output_type": "stream",
     "text": [
      "[35, 99, 53, 33, 65, 46, 78, 37, 83, 12]\n",
      "Rastgele sayıların ortalaması: 54.1\n",
      "Rastgele sayıların standart sapması: 26.838819314981468\n"
     ]
    }
   ],
   "source": [
    "# Soru 4\n",
    "\n",
    "import random\n",
    "import statistics\n",
    "\n",
    "sayilar=[]\n",
    "for i in range(10):\n",
    "    sayilar.append(random.randint(1,100))\n",
    "print(sayilar)\n",
    "ortalama=statistics.mean(sayilar)\n",
    "std_sapma=statistics.stdev(sayilar)\n",
    "print(\"Rastgele sayıların ortalaması:\",ortalama)\n",
    "print(\"Rastgele sayıların standart sapması:\",std_sapma)"
   ]
  },
  {
   "cell_type": "code",
   "execution_count": null,
   "id": "0ca4414b-720f-4f2e-836c-2564ea8f4208",
   "metadata": {},
   "outputs": [],
   "source": [
    "import statistics\n",
    "help(statistics)"
   ]
  },
  {
   "cell_type": "code",
   "execution_count": 1,
   "id": "183de69b-11e4-4563-8fa8-f8384ff9ae26",
   "metadata": {},
   "outputs": [
    {
     "name": "stdout",
     "output_type": "stream",
     "text": [
      "Toplam Kelime Sayısı: 7\n",
      "En Uzun Kelime: yüksek\n",
      "En Sık Geçen Kelime: en\n"
     ]
    }
   ],
   "source": [
    "# Soru 5\n",
    "\n",
    "def kelime_sayaci(metin):\n",
    "    kelime= metin.split(' ')\n",
    "    toplam_kelime= len(kelime)\n",
    "    en_uzun_kelime= max(kelime, key=len)\n",
    "    en_cok_tekrar= max(set(kelime), key=kelime.count)\n",
    "    \n",
    "    print(\"Toplam Kelime Sayısı:\",toplam_kelime)\n",
    "    print(\"En Uzun Kelime:\",en_uzun_kelime)\n",
    "    print(\"En Sık Geçen Kelime:\",en_cok_tekrar)\n",
    "    \n",
    "kelime_sayaci(\"en yüksek ve en düşük notu bulun\")"
   ]
  },
  {
   "cell_type": "code",
   "execution_count": 21,
   "id": "f8154faf-38d0-4f9e-aa84-8a29786d9b19",
   "metadata": {},
   "outputs": [
    {
     "name": "stdout",
     "output_type": "stream",
     "text": [
      "Çiftler: [12, 18, 24, 16]\n",
      "Kareler: [25, 144, 49, 324, 576, 9, 256]\n",
      "Sıralanmış: [576, 324, 256, 144, 49, 25, 9]\n"
     ]
    }
   ],
   "source": [
    "# Soru 6 \n",
    "\n",
    "sayilar = [5, 12, 7, 18, 24, 3, 16] \n",
    "\n",
    "ciftler = list(filter(lambda x: x % 2 == 0, sayilar))\n",
    "print(\"Çiftler:\", ciftler)\n",
    "\n",
    "def kare(i):\n",
    "    return i*i\n",
    "\n",
    "sonuc=list( map(kare,sayilar))\n",
    "print(\"Kareler:\",list(sonuc))\n",
    "\n",
    "siralanmis= sorted(sonuc,reverse=True)\n",
    "print(\"Sıralanmış:\",siralanmis)"
   ]
  },
  {
   "cell_type": "code",
   "execution_count": 17,
   "id": "89071b2a-566f-4851-a4d9-28bd55f5c9d0",
   "metadata": {},
   "outputs": [
    {
     "name": "stdout",
     "output_type": "stream",
     "text": [
      "Help on built-in function sorted in module builtins:\n",
      "\n",
      "sorted(iterable, /, *, key=None, reverse=False)\n",
      "    Return a new list containing all items from the iterable in ascending order.\n",
      "\n",
      "    A custom key function can be supplied to customize the sort order, and the\n",
      "    reverse flag can be set to request the result in descending order.\n",
      "\n"
     ]
    }
   ],
   "source": [
    "help(sorted)"
   ]
  },
  {
   "cell_type": "code",
   "execution_count": 85,
   "id": "5027852c-9f24-4b65-a191-471c8d9c4d20",
   "metadata": {},
   "outputs": [
    {
     "name": "stdout",
     "output_type": "stream",
     "text": [
      "['veri', 'bilim', 'analiz', 'python', 'yapayzeka']\n"
     ]
    }
   ],
   "source": [
    "# Soru 7\n",
    "\n",
    "kelimeler = [\"veri\", \"bilim\", \"analiz\", \"yapayzeka\", \"python\"] \n",
    "siralama = sorted(kelimeler, key=lambda x: (len(x), x))\n",
    "print(siralama)"
   ]
  },
  {
   "cell_type": "code",
   "execution_count": 71,
   "id": "cfd24049-6b94-4173-aa99-4587272ea1f5",
   "metadata": {},
   "outputs": [
    {
     "name": "stdin",
     "output_type": "stream",
     "text": [
      "Bir metin giriniz: abc12def3\n"
     ]
    },
    {
     "name": "stdout",
     "output_type": "stream",
     "text": [
      "Toplam: 15\n"
     ]
    }
   ],
   "source": [
    "# Soru 8\n",
    "\n",
    "import re\n",
    "\n",
    "metin=input(\"Bir metin giriniz:\")\n",
    "\n",
    "def fonk(kelime):\n",
    "    sayilar = re.findall(r'\\d+', kelime)\n",
    "    toplam=0\n",
    "    \n",
    "    for i in sayilar:\n",
    "        i = int(i)\n",
    "        toplam+=i\n",
    "    print(\"Toplam:\",toplam)\n",
    "\n",
    "fonk(metin)"
   ]
  },
  {
   "cell_type": "code",
   "execution_count": null,
   "id": "8d20000d-eb27-4b74-8edc-b230513d92b5",
   "metadata": {},
   "outputs": [],
   "source": [
    "import re\n",
    "help(re)"
   ]
  },
  {
   "cell_type": "code",
   "execution_count": 3,
   "id": "778b18db-cddd-4f9e-bf3f-53e65a1ed48d",
   "metadata": {},
   "outputs": [
    {
     "name": "stdout",
     "output_type": "stream",
     "text": [
      "[28  4 29 44 48 37  3 44 15 35]\n",
      "Ortalama: 28.7\n",
      "Standart Sapma: 16.357465166298436\n",
      "En büyük Değer: 48\n"
     ]
    }
   ],
   "source": [
    "# Soru 9\n",
    "\n",
    "import numpy as np\n",
    "import random \n",
    "\n",
    "dizi=[]\n",
    "\n",
    "for i in range(10):\n",
    "    dizi.append(random.randint(1,50))\n",
    "    \n",
    "dizi=np.array((dizi))\n",
    "print(dizi)\n",
    "\n",
    "ortalama= np.mean(dizi)\n",
    "std_sapma= np.std(dizi,ddof=1)\n",
    "max_deger= np.max(dizi)\n",
    "\n",
    "print(\"Ortalama:\",ortalama)\n",
    "print(\"Standart Sapma:\",std_sapma)\n",
    "print(\"En büyük Değer:\",max_deger)"
   ]
  }
 ],
 "metadata": {
  "kernelspec": {
   "display_name": "Python [conda env:base] *",
   "language": "python",
   "name": "conda-base-py"
  },
  "language_info": {
   "codemirror_mode": {
    "name": "ipython",
    "version": 3
   },
   "file_extension": ".py",
   "mimetype": "text/x-python",
   "name": "python",
   "nbconvert_exporter": "python",
   "pygments_lexer": "ipython3",
   "version": "3.12.7"
  }
 },
 "nbformat": 4,
 "nbformat_minor": 5
}
