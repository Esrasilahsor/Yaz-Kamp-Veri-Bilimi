{
 "cells": [
  {
   "cell_type": "code",
   "execution_count": 21,
   "id": "f1edbd8e-6e15-47ed-bc0a-ddf1316391fd",
   "metadata": {},
   "outputs": [
    {
     "name": "stdin",
     "output_type": "stream",
     "text": [
      "Bir sayı giriniz:  -2\n"
     ]
    },
    {
     "name": "stdout",
     "output_type": "stream",
     "text": [
      "Negatif Çift\n"
     ]
    }
   ],
   "source": [
    "# Soru 1\n",
    "\n",
    "sayi=int(input(\"Bir sayı giriniz: \"))\n",
    "if sayi<0:\n",
    "    if sayi%2==0:\n",
    "        print(\"Negatif Çift\")\n",
    "    else:\n",
    "       print(\"Negatif Tek\") \n",
    "elif sayi>0:\n",
    "    if sayi%2==0:\n",
    "        print(\"Pozitif Çift\")\n",
    "    else:\n",
    "       print(\"Pozitif Tek\") \n",
    "elif sayi==0:\n",
    "    print(\"Sayı sıfırdır\")"
   ]
  },
  {
   "cell_type": "code",
   "execution_count": 55,
   "id": "89eeba38-b0f3-4f98-b70a-b980383898b8",
   "metadata": {},
   "outputs": [
    {
     "name": "stdin",
     "output_type": "stream",
     "text": [
      "Bir kelime giriniz:  esrasilahsor\n"
     ]
    },
    {
     "name": "stdout",
     "output_type": "stream",
     "text": [
      "{'e': 1, 's': 3, 'r': 2, 'a': 2, 'i': 1, 'l': 1, 'h': 1, 'o': 1}\n"
     ]
    }
   ],
   "source": [
    "# Soru 2\n",
    "\n",
    "kelime=input(\"Bir kelime giriniz: \")\n",
    "dizi={}\n",
    "for harf in kelime:\n",
    "    if harf in dizi:\n",
    "        dizi[harf] += 1\n",
    "    else:\n",
    "        dizi[harf] = 1\n",
    "print(dizi)\n"
   ]
  },
  {
   "cell_type": "code",
   "execution_count": 121,
   "id": "c9ff96aa-942d-4c16-a4e9-d11243af4726",
   "metadata": {},
   "outputs": [
    {
     "name": "stdin",
     "output_type": "stream",
     "text": [
      "Şifrenizi giriniz: Eeeeeeeeeeee5\n"
     ]
    },
    {
     "name": "stdout",
     "output_type": "stream",
     "text": [
      "Şifre:  Eeeeeeeeeeee5\n"
     ]
    }
   ],
   "source": [
    "# Soru 3\n",
    "\n",
    "sifre=input(\"Şifrenizi giriniz:\")\n",
    "\n",
    "if len(sifre)<8:\n",
    "    print(\"Şifre en az 8 karakter olmalı \")\n",
    "elif not any(i.isupper() for i in sifre):\n",
    "    print(\"Şifre en az 1 büyük harf içermeli \")\n",
    "elif not any(i.isdigit() for i in sifre):\n",
    "    print(\"Şifre en az 1 rakam içermeli \")\n",
    "else:\n",
    "    print(\"Şifre: \",sifre)"
   ]
  },
  {
   "cell_type": "code",
   "execution_count": 195,
   "id": "67ad06c0-2ff7-468c-bc5f-af328e8c02eb",
   "metadata": {},
   "outputs": [
    {
     "name": "stdout",
     "output_type": "stream",
     "text": [
      "Ortalama:  15.0\n",
      "Ortalamadan büyük sayılar: [25, 30, 18]\n"
     ]
    }
   ],
   "source": [
    "# Soru 4 \n",
    "\n",
    "liste=[12, 4, 9, 25, 30, 7, 18]\n",
    "sayi=0\n",
    "\n",
    "for i in liste:\n",
    "    sayi+=i\n",
    "    ort=sayi/len(liste) \n",
    "print(\"Ortalama:\", ort)\n",
    "\n",
    "liste2=[]\n",
    "for i in liste:\n",
    "    if ort<i:\n",
    "        liste2.append(i)\n",
    "print(\"Ortalamadan büyük sayılar:\",liste2)"
   ]
  },
  {
   "cell_type": "code",
   "execution_count": 221,
   "id": "dcdf0f1b-5f5d-4847-9dcb-173d0d5d8313",
   "metadata": {},
   "outputs": [
    {
     "name": "stdout",
     "output_type": "stream",
     "text": [
      "\n",
      "*\n",
      "**\n",
      "***\n",
      "****\n",
      "*****\n"
     ]
    }
   ],
   "source": [
    "# Soru 5\n",
    "\n",
    "for i in range(6):\n",
    "    print(i*\"*\")"
   ]
  },
  {
   "cell_type": "code",
   "execution_count": 247,
   "id": "1cb01f49-dc5e-4b42-b469-d677ea593fc1",
   "metadata": {},
   "outputs": [
    {
     "name": "stdin",
     "output_type": "stream",
     "text": [
      "Bir sayı giriniz, çıkış yapmak isterseniz 0'a basınız. 10\n"
     ]
    },
    {
     "name": "stdout",
     "output_type": "stream",
     "text": [
      "10\n"
     ]
    },
    {
     "name": "stdin",
     "output_type": "stream",
     "text": [
      "Bir sayı giriniz,, çıkış yapmak isterseniz 0'a basınız. 20\n"
     ]
    },
    {
     "name": "stdout",
     "output_type": "stream",
     "text": [
      "30\n",
      "15.0\n"
     ]
    },
    {
     "name": "stdin",
     "output_type": "stream",
     "text": [
      "Bir sayı giriniz,, çıkış yapmak isterseniz 0'a basınız. 30\n"
     ]
    },
    {
     "name": "stdout",
     "output_type": "stream",
     "text": [
      "60\n",
      "20.0\n"
     ]
    },
    {
     "name": "stdin",
     "output_type": "stream",
     "text": [
      "Bir sayı giriniz,, çıkış yapmak isterseniz 0'a basınız. 40\n"
     ]
    },
    {
     "name": "stdout",
     "output_type": "stream",
     "text": [
      "100\n",
      "25.0\n"
     ]
    },
    {
     "name": "stdin",
     "output_type": "stream",
     "text": [
      "Bir sayı giriniz,, çıkış yapmak isterseniz 0'a basınız. 0\n"
     ]
    },
    {
     "name": "stdout",
     "output_type": "stream",
     "text": [
      "100\n",
      "20.0\n"
     ]
    }
   ],
   "source": [
    "# Soru 6\n",
    "sayi=int(input(\"Bir sayı giriniz, çıkış yapmak isterseniz 0'a basınız.\"))\n",
    "toplam=0\n",
    "i=1\n",
    "toplam+=sayi\n",
    "print(toplam)\n",
    "while sayi!=0:\n",
    "    i+=1\n",
    "    if sayi==0:\n",
    "        break\n",
    "    else:\n",
    "        sayi=int(input(\"Bir sayı giriniz,, çıkış yapmak isterseniz 0'a basınız.\"))\n",
    "    toplam+=sayi\n",
    "    ort=toplam/i\n",
    "    print(toplam)\n",
    "    print(ort)\n",
    "    "
   ]
  },
  {
   "cell_type": "code",
   "execution_count": 17,
   "id": "5fcb325d-6100-4910-92e5-2a4c5c828c18",
   "metadata": {},
   "outputs": [
    {
     "name": "stdin",
     "output_type": "stream",
     "text": [
      "Bir kelime giriniz: kayak\n"
     ]
    },
    {
     "name": "stdout",
     "output_type": "stream",
     "text": [
      "kayak palindromdur.\n"
     ]
    }
   ],
   "source": [
    "# Soru 7\n",
    "\n",
    "kelime=input(\"Bir kelime giriniz:\")\n",
    "liste=list(kelime)\n",
    "liste.reverse()\n",
    "ters_kelime=\"\".join(liste)\n",
    "\n",
    "if kelime==ters_kelime:\n",
    "    print(f\"{ters_kelime} palindromdur.\")\n",
    "else:\n",
    "    print(f\"{kelime} palindrom değildir.\")\n"
   ]
  },
  {
   "cell_type": "code",
   "execution_count": 269,
   "id": "d88bfaa8-2a45-42ea-9cd6-ac56f72b0689",
   "metadata": {},
   "outputs": [
    {
     "name": "stdout",
     "output_type": "stream",
     "text": [
      "[225, 900, 2025, 3600, 5625, 8100]\n"
     ]
    }
   ],
   "source": [
    "# Soru 8\n",
    "\n",
    "liste=[]\n",
    "liste2=[]\n",
    "for i in range(1,101):\n",
    "    liste.append(i)\n",
    "for i in liste:\n",
    "    if i%3==0 and i%5==0:\n",
    "        liste2.append(i*i)\n",
    "print(liste2)"
   ]
  },
  {
   "cell_type": "code",
   "execution_count": 311,
   "id": "d27e2322-0228-4752-85d0-2468b4a2ae6d",
   "metadata": {},
   "outputs": [
    {
     "name": "stdin",
     "output_type": "stream",
     "text": [
      "Bir cümle giriniz: python veri bilimi\n"
     ]
    },
    {
     "name": "stdout",
     "output_type": "stream",
     "text": [
      "Python Veri Bilimi\n"
     ]
    }
   ],
   "source": [
    "# Soru 9\n",
    "\n",
    "cumle= input(\"Bir cümle giriniz:\")\n",
    "dizi= cumle.split()\n",
    "liste=[]\n",
    "for i in dizi:\n",
    "    kelime=i[0].upper()+i[1:]\n",
    "    liste.append(kelime)\n",
    "metin=\" \".join(liste)\n",
    "print(metin)"
   ]
  },
  {
   "cell_type": "code",
   "execution_count": 11,
   "id": "26ba626e-8434-44d2-a0cd-035ce0175cbe",
   "metadata": {},
   "outputs": [
    {
     "name": "stdin",
     "output_type": "stream",
     "text": [
      "Film hakkındaki yorumunuzu giriniz: Film çok güzeldi\n",
      "Film hakkındaki yorumunuzu giriniz: Kötüydü\n",
      "Film hakkındaki yorumunuzu giriniz: Ortalama bir filmdi\n",
      "Film hakkındaki yorumunuzu giriniz: Gerçekten çok iyi!\n",
      "Film hakkındaki yorumunuzu giriniz: İyi ama daha iyi  olabilirdi\n"
     ]
    },
    {
     "name": "stdout",
     "output_type": "stream",
     "text": [
      "Toplam yorum sayısı: 5\n",
      "iyi geçen yorum sayısı: 2\n",
      "En uzun yorum: İyi ama daha iyi  olabilirdi\n",
      "En kısa yorum: Kötüydü\n",
      "Ortalama uzunluk: 17.6  karakter\n"
     ]
    }
   ],
   "source": [
    "# Mini Proje\n",
    "\n",
    "liste=[]\n",
    "sayac=0\n",
    "for i in range(5):\n",
    "    yorum=input(\"Film hakkındaki yorumunuzu giriniz:\")\n",
    "    liste.append(yorum)\n",
    "    \n",
    "    if \"iyi\" in yorum:\n",
    "        sayac+=1\n",
    "        \n",
    "en_uzun_yorum=max(liste, key=len)\n",
    "en_kisa_yorum=min(liste, key=len)\n",
    "\n",
    "toplam=0\n",
    "for i in liste:\n",
    "    toplam+=len(i)\n",
    "    \n",
    "ort_uzunluk=toplam/len(liste)\n",
    "\n",
    "print(\"Toplam yorum sayısı:\",len(liste))\n",
    "print(\"iyi geçen yorum sayısı:\",sayac)\n",
    "print(\"En uzun yorum:\",en_uzun_yorum)\n",
    "print(\"En kısa yorum:\",en_kisa_yorum)\n",
    "print(\"Ortalama uzunluk:\",ort_uzunluk,\" karakter\")"
   ]
  },
  {
   "cell_type": "code",
   "execution_count": null,
   "id": "35dcd3de-69c7-4779-b519-21684ecae7c9",
   "metadata": {},
   "outputs": [],
   "source": []
  }
 ],
 "metadata": {
  "kernelspec": {
   "display_name": "Python [conda env:base] *",
   "language": "python",
   "name": "conda-base-py"
  },
  "language_info": {
   "codemirror_mode": {
    "name": "ipython",
    "version": 3
   },
   "file_extension": ".py",
   "mimetype": "text/x-python",
   "name": "python",
   "nbconvert_exporter": "python",
   "pygments_lexer": "ipython3",
   "version": "3.12.7"
  }
 },
 "nbformat": 4,
 "nbformat_minor": 5
}
